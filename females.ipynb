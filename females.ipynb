{
 "cells": [
  {
   "cell_type": "code",
   "execution_count": 30,
   "metadata": {
    "collapsed": true
   },
   "outputs": [],
   "source": [
    "import pandas as pd\n",
    "import numpy as np\n",
    "import matplotlib_inline as plt\n",
    "from sklearn.tree import DecisionTreeClassifier\n",
    "from sklearn.tree import plot_tree\n",
    "from sklearn.model_selection import train_test_split\n",
    "from sklearn.model_selection import cross_val_score\n",
    "from sklearn.metrics import confusion_matrix\n",
    "from sklearn.metrics import plot_confusion_matrix"
   ]
  },
  {
   "cell_type": "code",
   "execution_count": 58,
   "outputs": [],
   "source": [
    "df = pd.read_csv('female.csv')"
   ],
   "metadata": {
    "collapsed": false,
    "pycharm": {
     "name": "#%%\n"
    }
   }
  },
  {
   "cell_type": "code",
   "execution_count": 59,
   "outputs": [
    {
     "data": {
      "text/plain": "   SubjectId  abdominalextensiondepthsitting  acromialheight  \\\n0      10037                             231            1282   \n1      10038                             194            1379   \n2      10042                             183            1369   \n3      10043                             261            1356   \n4      10051                             309            1303   \n\n   acromionradialelength  anklecircumference  axillaheight  \\\n0                    301                 204          1180   \n1                    320                 207          1292   \n2                    329                 233          1271   \n3                    306                 214          1250   \n4                    308                 214          1210   \n\n   balloffootcircumference  balloffootlength  biacromialbreadth  \\\n0                      222               177                373   \n1                      225               178                372   \n2                      237               196                397   \n3                      240               188                384   \n4                      217               182                378   \n\n   bicepscircumferenceflexed  ...                  Branch  PrimaryMOS  \\\n0                        315  ...          Combat Support         92Y   \n1                        272  ...  Combat Service Support         25U   \n2                        300  ...  Combat Service Support         35D   \n3                        364  ...  Combat Service Support         25U   \n4                        320  ...             Combat Arms         42A   \n\n   SubjectsBirthLocation  SubjectNumericRace           Ethnicity  DODRace  \\\n0                Germany                   2                 NaN        2   \n1             California                   3             Mexican        3   \n2                  Texas                   1                 NaN        1   \n3   District of Columbia                   8  Caribbean Islander        2   \n4                  Texas                   1                 NaN        1   \n\n   Age  Heightin  Weightlbs  WritingPreference  \n0   26        61        142         Right hand  \n1   21        64        120         Right hand  \n2   23        68        147         Right hand  \n3   22        66        175         Right hand  \n4   45        63        195         Right hand  \n\n[5 rows x 108 columns]",
      "text/html": "<div>\n<style scoped>\n    .dataframe tbody tr th:only-of-type {\n        vertical-align: middle;\n    }\n\n    .dataframe tbody tr th {\n        vertical-align: top;\n    }\n\n    .dataframe thead th {\n        text-align: right;\n    }\n</style>\n<table border=\"1\" class=\"dataframe\">\n  <thead>\n    <tr style=\"text-align: right;\">\n      <th></th>\n      <th>SubjectId</th>\n      <th>abdominalextensiondepthsitting</th>\n      <th>acromialheight</th>\n      <th>acromionradialelength</th>\n      <th>anklecircumference</th>\n      <th>axillaheight</th>\n      <th>balloffootcircumference</th>\n      <th>balloffootlength</th>\n      <th>biacromialbreadth</th>\n      <th>bicepscircumferenceflexed</th>\n      <th>...</th>\n      <th>Branch</th>\n      <th>PrimaryMOS</th>\n      <th>SubjectsBirthLocation</th>\n      <th>SubjectNumericRace</th>\n      <th>Ethnicity</th>\n      <th>DODRace</th>\n      <th>Age</th>\n      <th>Heightin</th>\n      <th>Weightlbs</th>\n      <th>WritingPreference</th>\n    </tr>\n  </thead>\n  <tbody>\n    <tr>\n      <th>0</th>\n      <td>10037</td>\n      <td>231</td>\n      <td>1282</td>\n      <td>301</td>\n      <td>204</td>\n      <td>1180</td>\n      <td>222</td>\n      <td>177</td>\n      <td>373</td>\n      <td>315</td>\n      <td>...</td>\n      <td>Combat Support</td>\n      <td>92Y</td>\n      <td>Germany</td>\n      <td>2</td>\n      <td>NaN</td>\n      <td>2</td>\n      <td>26</td>\n      <td>61</td>\n      <td>142</td>\n      <td>Right hand</td>\n    </tr>\n    <tr>\n      <th>1</th>\n      <td>10038</td>\n      <td>194</td>\n      <td>1379</td>\n      <td>320</td>\n      <td>207</td>\n      <td>1292</td>\n      <td>225</td>\n      <td>178</td>\n      <td>372</td>\n      <td>272</td>\n      <td>...</td>\n      <td>Combat Service Support</td>\n      <td>25U</td>\n      <td>California</td>\n      <td>3</td>\n      <td>Mexican</td>\n      <td>3</td>\n      <td>21</td>\n      <td>64</td>\n      <td>120</td>\n      <td>Right hand</td>\n    </tr>\n    <tr>\n      <th>2</th>\n      <td>10042</td>\n      <td>183</td>\n      <td>1369</td>\n      <td>329</td>\n      <td>233</td>\n      <td>1271</td>\n      <td>237</td>\n      <td>196</td>\n      <td>397</td>\n      <td>300</td>\n      <td>...</td>\n      <td>Combat Service Support</td>\n      <td>35D</td>\n      <td>Texas</td>\n      <td>1</td>\n      <td>NaN</td>\n      <td>1</td>\n      <td>23</td>\n      <td>68</td>\n      <td>147</td>\n      <td>Right hand</td>\n    </tr>\n    <tr>\n      <th>3</th>\n      <td>10043</td>\n      <td>261</td>\n      <td>1356</td>\n      <td>306</td>\n      <td>214</td>\n      <td>1250</td>\n      <td>240</td>\n      <td>188</td>\n      <td>384</td>\n      <td>364</td>\n      <td>...</td>\n      <td>Combat Service Support</td>\n      <td>25U</td>\n      <td>District of Columbia</td>\n      <td>8</td>\n      <td>Caribbean Islander</td>\n      <td>2</td>\n      <td>22</td>\n      <td>66</td>\n      <td>175</td>\n      <td>Right hand</td>\n    </tr>\n    <tr>\n      <th>4</th>\n      <td>10051</td>\n      <td>309</td>\n      <td>1303</td>\n      <td>308</td>\n      <td>214</td>\n      <td>1210</td>\n      <td>217</td>\n      <td>182</td>\n      <td>378</td>\n      <td>320</td>\n      <td>...</td>\n      <td>Combat Arms</td>\n      <td>42A</td>\n      <td>Texas</td>\n      <td>1</td>\n      <td>NaN</td>\n      <td>1</td>\n      <td>45</td>\n      <td>63</td>\n      <td>195</td>\n      <td>Right hand</td>\n    </tr>\n  </tbody>\n</table>\n<p>5 rows × 108 columns</p>\n</div>"
     },
     "execution_count": 59,
     "metadata": {},
     "output_type": "execute_result"
    }
   ],
   "source": [
    "df.head()"
   ],
   "metadata": {
    "collapsed": false,
    "pycharm": {
     "name": "#%%\n"
    }
   }
  },
  {
   "cell_type": "code",
   "execution_count": 55,
   "outputs": [
    {
     "data": {
      "text/plain": "Index(['      footlength  Heightin  Weightlbs  balloffootcircumference'], dtype='object')"
     },
     "execution_count": 55,
     "metadata": {},
     "output_type": "execute_result"
    }
   ],
   "source": [
    "df.columns\n"
   ],
   "metadata": {
    "collapsed": false,
    "pycharm": {
     "name": "#%%\n"
    }
   }
  },
  {
   "cell_type": "code",
   "execution_count": 56,
   "outputs": [
    {
     "data": {
      "text/plain": "RangeIndex(start=0, stop=1986, step=1)"
     },
     "execution_count": 56,
     "metadata": {},
     "output_type": "execute_result"
    }
   ],
   "source": [
    "df.index\n"
   ],
   "metadata": {
    "collapsed": false,
    "pycharm": {
     "name": "#%%\n"
    }
   }
  },
  {
   "cell_type": "code",
   "execution_count": 60,
   "outputs": [],
   "source": [
    "female_df = df[['footlength', 'Heightin', 'Weightlbs', 'balloffootcircumference']]"
   ],
   "metadata": {
    "collapsed": false,
    "pycharm": {
     "name": "#%%\n"
    }
   }
  },
  {
   "cell_type": "code",
   "execution_count": 61,
   "outputs": [
    {
     "data": {
      "text/plain": "   footlength  Heightin  Weightlbs  balloffootcircumference\n0         246        61        142                      222\n1         249        64        120                      225\n2         265        68        147                      237\n3         265        66        175                      240\n4         247        63        195                      217",
      "text/html": "<div>\n<style scoped>\n    .dataframe tbody tr th:only-of-type {\n        vertical-align: middle;\n    }\n\n    .dataframe tbody tr th {\n        vertical-align: top;\n    }\n\n    .dataframe thead th {\n        text-align: right;\n    }\n</style>\n<table border=\"1\" class=\"dataframe\">\n  <thead>\n    <tr style=\"text-align: right;\">\n      <th></th>\n      <th>footlength</th>\n      <th>Heightin</th>\n      <th>Weightlbs</th>\n      <th>balloffootcircumference</th>\n    </tr>\n  </thead>\n  <tbody>\n    <tr>\n      <th>0</th>\n      <td>246</td>\n      <td>61</td>\n      <td>142</td>\n      <td>222</td>\n    </tr>\n    <tr>\n      <th>1</th>\n      <td>249</td>\n      <td>64</td>\n      <td>120</td>\n      <td>225</td>\n    </tr>\n    <tr>\n      <th>2</th>\n      <td>265</td>\n      <td>68</td>\n      <td>147</td>\n      <td>237</td>\n    </tr>\n    <tr>\n      <th>3</th>\n      <td>265</td>\n      <td>66</td>\n      <td>175</td>\n      <td>240</td>\n    </tr>\n    <tr>\n      <th>4</th>\n      <td>247</td>\n      <td>63</td>\n      <td>195</td>\n      <td>217</td>\n    </tr>\n  </tbody>\n</table>\n</div>"
     },
     "execution_count": 61,
     "metadata": {},
     "output_type": "execute_result"
    }
   ],
   "source": [
    "female_df.head()"
   ],
   "metadata": {
    "collapsed": false,
    "pycharm": {
     "name": "#%%\n"
    }
   }
  },
  {
   "cell_type": "code",
   "execution_count": 62,
   "outputs": [],
   "source": [
    "female_df.to_csv('female_cleaned.csv', index=False)"
   ],
   "metadata": {
    "collapsed": false,
    "pycharm": {
     "name": "#%%\n"
    }
   }
  },
  {
   "cell_type": "code",
   "execution_count": 63,
   "outputs": [
    {
     "name": "stderr",
     "output_type": "stream",
     "text": [
      "C:\\Users\\NYass\\AppData\\Local\\Temp\\ipykernel_15264\\1712365802.py:2: SettingWithCopyWarning: \n",
      "A value is trying to be set on a copy of a slice from a DataFrame.\n",
      "Try using .loc[row_indexer,col_indexer] = value instead\n",
      "\n",
      "See the caveats in the documentation: https://pandas.pydata.org/pandas-docs/stable/user_guide/indexing.html#returning-a-view-versus-a-copy\n",
      "  female_df.loc[ind, 'EUR Size'] = row ['footlength'] / 6.51\n"
     ]
    }
   ],
   "source": [
    "for ind, row in female_df.iterrows():\n",
    "    female_df.loc[ind, 'EUR Size'] = row ['footlength'] / 6.51"
   ],
   "metadata": {
    "collapsed": false,
    "pycharm": {
     "name": "#%%\n"
    }
   }
  },
  {
   "cell_type": "code",
   "execution_count": 64,
   "outputs": [
    {
     "data": {
      "text/plain": "   footlength  Heightin  Weightlbs  balloffootcircumference   EUR Size\n0         246        61        142                      222  37.788018\n1         249        64        120                      225  38.248848\n2         265        68        147                      237  40.706605\n3         265        66        175                      240  40.706605\n4         247        63        195                      217  37.941628",
      "text/html": "<div>\n<style scoped>\n    .dataframe tbody tr th:only-of-type {\n        vertical-align: middle;\n    }\n\n    .dataframe tbody tr th {\n        vertical-align: top;\n    }\n\n    .dataframe thead th {\n        text-align: right;\n    }\n</style>\n<table border=\"1\" class=\"dataframe\">\n  <thead>\n    <tr style=\"text-align: right;\">\n      <th></th>\n      <th>footlength</th>\n      <th>Heightin</th>\n      <th>Weightlbs</th>\n      <th>balloffootcircumference</th>\n      <th>EUR Size</th>\n    </tr>\n  </thead>\n  <tbody>\n    <tr>\n      <th>0</th>\n      <td>246</td>\n      <td>61</td>\n      <td>142</td>\n      <td>222</td>\n      <td>37.788018</td>\n    </tr>\n    <tr>\n      <th>1</th>\n      <td>249</td>\n      <td>64</td>\n      <td>120</td>\n      <td>225</td>\n      <td>38.248848</td>\n    </tr>\n    <tr>\n      <th>2</th>\n      <td>265</td>\n      <td>68</td>\n      <td>147</td>\n      <td>237</td>\n      <td>40.706605</td>\n    </tr>\n    <tr>\n      <th>3</th>\n      <td>265</td>\n      <td>66</td>\n      <td>175</td>\n      <td>240</td>\n      <td>40.706605</td>\n    </tr>\n    <tr>\n      <th>4</th>\n      <td>247</td>\n      <td>63</td>\n      <td>195</td>\n      <td>217</td>\n      <td>37.941628</td>\n    </tr>\n  </tbody>\n</table>\n</div>"
     },
     "execution_count": 64,
     "metadata": {},
     "output_type": "execute_result"
    }
   ],
   "source": [
    "female_df.head()"
   ],
   "metadata": {
    "collapsed": false,
    "pycharm": {
     "name": "#%%\n"
    }
   }
  },
  {
   "cell_type": "code",
   "execution_count": 65,
   "outputs": [],
   "source": [
    "female_df.to_csv('female_cleaned.csv', index=False)"
   ],
   "metadata": {
    "collapsed": false,
    "pycharm": {
     "name": "#%%\n"
    }
   }
  },
  {
   "cell_type": "code",
   "execution_count": null,
   "outputs": [],
   "source": [],
   "metadata": {
    "collapsed": false,
    "pycharm": {
     "name": "#%%\n"
    }
   }
  }
 ],
 "metadata": {
  "kernelspec": {
   "display_name": "Python 3",
   "language": "python",
   "name": "python3"
  },
  "language_info": {
   "codemirror_mode": {
    "name": "ipython",
    "version": 2
   },
   "file_extension": ".py",
   "mimetype": "text/x-python",
   "name": "python",
   "nbconvert_exporter": "python",
   "pygments_lexer": "ipython2",
   "version": "2.7.6"
  }
 },
 "nbformat": 4,
 "nbformat_minor": 0
}