{
 "cells": [
  {
   "cell_type": "code",
   "execution_count": 11,
   "metadata": {
    "collapsed": true
   },
   "outputs": [],
   "source": [
    "import pandas as pd\n",
    "\n",
    "df_male = pd.read_csv('male.csv')"
   ]
  },
  {
   "cell_type": "code",
   "execution_count": 13,
   "outputs": [
    {
     "data": {
      "text/plain": "   subjectid  abdominalextensiondepthsitting  acromialheight  \\\n0      10027                             266            1467   \n1      10032                             233            1395   \n2      10033                             287            1430   \n3      10092                             234            1347   \n4      10093                             250            1585   \n\n   acromionradialelength  anklecircumference  axillaheight  \\\n0                    337                 222          1347   \n1                    326                 220          1293   \n2                    341                 230          1327   \n3                    310                 230          1239   \n4                    372                 247          1478   \n\n   balloffootcircumference  balloffootlength  biacromialbreadth  \\\n0                      253               202                401   \n1                      245               193                394   \n2                      256               196                427   \n3                      262               199                401   \n4                      267               224                435   \n\n   bicepscircumferenceflexed  ...                  Branch  PrimaryMOS  \\\n0                        369  ...             Combat Arms         19D   \n1                        338  ...          Combat Support         68W   \n2                        408  ...          Combat Support         68W   \n3                        359  ...  Combat Service Support         88M   \n4                        356  ...  Combat Service Support         92G   \n\n   SubjectsBirthLocation  SubjectNumericRace  Ethnicity  DODRace  Age  \\\n0           North Dakota                   1        NaN        1   41   \n1               New York                   1        NaN        1   35   \n2               New York                   2        NaN        2   42   \n3              Wisconsin                   1        NaN        1   31   \n4         North Carolina                   2        NaN        2   21   \n\n   Heightin  Weightlbs  WritingPreference  \n0        71        180         Right hand  \n1        68        160          Left hand  \n2        68        205          Left hand  \n3        66        175         Right hand  \n4        77        213         Right hand  \n\n[5 rows x 108 columns]",
      "text/html": "<div>\n<style scoped>\n    .dataframe tbody tr th:only-of-type {\n        vertical-align: middle;\n    }\n\n    .dataframe tbody tr th {\n        vertical-align: top;\n    }\n\n    .dataframe thead th {\n        text-align: right;\n    }\n</style>\n<table border=\"1\" class=\"dataframe\">\n  <thead>\n    <tr style=\"text-align: right;\">\n      <th></th>\n      <th>subjectid</th>\n      <th>abdominalextensiondepthsitting</th>\n      <th>acromialheight</th>\n      <th>acromionradialelength</th>\n      <th>anklecircumference</th>\n      <th>axillaheight</th>\n      <th>balloffootcircumference</th>\n      <th>balloffootlength</th>\n      <th>biacromialbreadth</th>\n      <th>bicepscircumferenceflexed</th>\n      <th>...</th>\n      <th>Branch</th>\n      <th>PrimaryMOS</th>\n      <th>SubjectsBirthLocation</th>\n      <th>SubjectNumericRace</th>\n      <th>Ethnicity</th>\n      <th>DODRace</th>\n      <th>Age</th>\n      <th>Heightin</th>\n      <th>Weightlbs</th>\n      <th>WritingPreference</th>\n    </tr>\n  </thead>\n  <tbody>\n    <tr>\n      <th>0</th>\n      <td>10027</td>\n      <td>266</td>\n      <td>1467</td>\n      <td>337</td>\n      <td>222</td>\n      <td>1347</td>\n      <td>253</td>\n      <td>202</td>\n      <td>401</td>\n      <td>369</td>\n      <td>...</td>\n      <td>Combat Arms</td>\n      <td>19D</td>\n      <td>North Dakota</td>\n      <td>1</td>\n      <td>NaN</td>\n      <td>1</td>\n      <td>41</td>\n      <td>71</td>\n      <td>180</td>\n      <td>Right hand</td>\n    </tr>\n    <tr>\n      <th>1</th>\n      <td>10032</td>\n      <td>233</td>\n      <td>1395</td>\n      <td>326</td>\n      <td>220</td>\n      <td>1293</td>\n      <td>245</td>\n      <td>193</td>\n      <td>394</td>\n      <td>338</td>\n      <td>...</td>\n      <td>Combat Support</td>\n      <td>68W</td>\n      <td>New York</td>\n      <td>1</td>\n      <td>NaN</td>\n      <td>1</td>\n      <td>35</td>\n      <td>68</td>\n      <td>160</td>\n      <td>Left hand</td>\n    </tr>\n    <tr>\n      <th>2</th>\n      <td>10033</td>\n      <td>287</td>\n      <td>1430</td>\n      <td>341</td>\n      <td>230</td>\n      <td>1327</td>\n      <td>256</td>\n      <td>196</td>\n      <td>427</td>\n      <td>408</td>\n      <td>...</td>\n      <td>Combat Support</td>\n      <td>68W</td>\n      <td>New York</td>\n      <td>2</td>\n      <td>NaN</td>\n      <td>2</td>\n      <td>42</td>\n      <td>68</td>\n      <td>205</td>\n      <td>Left hand</td>\n    </tr>\n    <tr>\n      <th>3</th>\n      <td>10092</td>\n      <td>234</td>\n      <td>1347</td>\n      <td>310</td>\n      <td>230</td>\n      <td>1239</td>\n      <td>262</td>\n      <td>199</td>\n      <td>401</td>\n      <td>359</td>\n      <td>...</td>\n      <td>Combat Service Support</td>\n      <td>88M</td>\n      <td>Wisconsin</td>\n      <td>1</td>\n      <td>NaN</td>\n      <td>1</td>\n      <td>31</td>\n      <td>66</td>\n      <td>175</td>\n      <td>Right hand</td>\n    </tr>\n    <tr>\n      <th>4</th>\n      <td>10093</td>\n      <td>250</td>\n      <td>1585</td>\n      <td>372</td>\n      <td>247</td>\n      <td>1478</td>\n      <td>267</td>\n      <td>224</td>\n      <td>435</td>\n      <td>356</td>\n      <td>...</td>\n      <td>Combat Service Support</td>\n      <td>92G</td>\n      <td>North Carolina</td>\n      <td>2</td>\n      <td>NaN</td>\n      <td>2</td>\n      <td>21</td>\n      <td>77</td>\n      <td>213</td>\n      <td>Right hand</td>\n    </tr>\n  </tbody>\n</table>\n<p>5 rows × 108 columns</p>\n</div>"
     },
     "execution_count": 13,
     "metadata": {},
     "output_type": "execute_result"
    }
   ],
   "source": [
    "df_male.head()\n"
   ],
   "metadata": {
    "collapsed": false,
    "pycharm": {
     "name": "#%%\n"
    }
   }
  },
  {
   "cell_type": "code",
   "execution_count": 33,
   "outputs": [
    {
     "data": {
      "text/plain": "   footlength  Heightin  Weightlbs  balloffootcircumference\n0         273        71        180                      253\n1         263        68        160                      245\n2         270        68        205                      256\n3         267        66        175                      262\n4         305        77        213                      267",
      "text/html": "<div>\n<style scoped>\n    .dataframe tbody tr th:only-of-type {\n        vertical-align: middle;\n    }\n\n    .dataframe tbody tr th {\n        vertical-align: top;\n    }\n\n    .dataframe thead th {\n        text-align: right;\n    }\n</style>\n<table border=\"1\" class=\"dataframe\">\n  <thead>\n    <tr style=\"text-align: right;\">\n      <th></th>\n      <th>footlength</th>\n      <th>Heightin</th>\n      <th>Weightlbs</th>\n      <th>balloffootcircumference</th>\n    </tr>\n  </thead>\n  <tbody>\n    <tr>\n      <th>0</th>\n      <td>273</td>\n      <td>71</td>\n      <td>180</td>\n      <td>253</td>\n    </tr>\n    <tr>\n      <th>1</th>\n      <td>263</td>\n      <td>68</td>\n      <td>160</td>\n      <td>245</td>\n    </tr>\n    <tr>\n      <th>2</th>\n      <td>270</td>\n      <td>68</td>\n      <td>205</td>\n      <td>256</td>\n    </tr>\n    <tr>\n      <th>3</th>\n      <td>267</td>\n      <td>66</td>\n      <td>175</td>\n      <td>262</td>\n    </tr>\n    <tr>\n      <th>4</th>\n      <td>305</td>\n      <td>77</td>\n      <td>213</td>\n      <td>267</td>\n    </tr>\n  </tbody>\n</table>\n</div>"
     },
     "execution_count": 33,
     "metadata": {},
     "output_type": "execute_result"
    }
   ],
   "source": [
    "new_df = df_male[['footlength', 'Heightin', 'Weightlbs', 'balloffootcircumference']]\n",
    "new_df.head()"
   ],
   "metadata": {
    "collapsed": false,
    "pycharm": {
     "name": "#%%\n"
    }
   }
  },
  {
   "cell_type": "code",
   "execution_count": 25,
   "outputs": [],
   "source": [
    "new_df.to_csv('male_clean.csv', index=False)"
   ],
   "metadata": {
    "collapsed": false,
    "pycharm": {
     "name": "#%%\n"
    }
   }
  },
  {
   "cell_type": "code",
   "execution_count": 34,
   "outputs": [
    {
     "data": {
      "text/plain": "   footlength  Heightin  Weightlbs  balloffootcircumference\n0         273        71        180                      253\n1         263        68        160                      245\n2         270        68        205                      256\n3         267        66        175                      262\n4         305        77        213                      267",
      "text/html": "<div>\n<style scoped>\n    .dataframe tbody tr th:only-of-type {\n        vertical-align: middle;\n    }\n\n    .dataframe tbody tr th {\n        vertical-align: top;\n    }\n\n    .dataframe thead th {\n        text-align: right;\n    }\n</style>\n<table border=\"1\" class=\"dataframe\">\n  <thead>\n    <tr style=\"text-align: right;\">\n      <th></th>\n      <th>footlength</th>\n      <th>Heightin</th>\n      <th>Weightlbs</th>\n      <th>balloffootcircumference</th>\n    </tr>\n  </thead>\n  <tbody>\n    <tr>\n      <th>0</th>\n      <td>273</td>\n      <td>71</td>\n      <td>180</td>\n      <td>253</td>\n    </tr>\n    <tr>\n      <th>1</th>\n      <td>263</td>\n      <td>68</td>\n      <td>160</td>\n      <td>245</td>\n    </tr>\n    <tr>\n      <th>2</th>\n      <td>270</td>\n      <td>68</td>\n      <td>205</td>\n      <td>256</td>\n    </tr>\n    <tr>\n      <th>3</th>\n      <td>267</td>\n      <td>66</td>\n      <td>175</td>\n      <td>262</td>\n    </tr>\n    <tr>\n      <th>4</th>\n      <td>305</td>\n      <td>77</td>\n      <td>213</td>\n      <td>267</td>\n    </tr>\n  </tbody>\n</table>\n</div>"
     },
     "execution_count": 34,
     "metadata": {},
     "output_type": "execute_result"
    }
   ],
   "source": [
    "new_df.head()"
   ],
   "metadata": {
    "collapsed": false,
    "pycharm": {
     "name": "#%%\n"
    }
   }
  },
  {
   "cell_type": "code",
   "execution_count": 26,
   "outputs": [
    {
     "data": {
      "text/plain": "   footlength  Heightin  Weightlbs  balloffootcircumference  Hd  Stars\n0         273        71        180                      253   0      0\n1         263        68        160                      245   0      0\n2         270        68        205                      256   0      0\n3         267        66        175                      262   0      0\n4         305        77        213                      267   0      0",
      "text/html": "<div>\n<style scoped>\n    .dataframe tbody tr th:only-of-type {\n        vertical-align: middle;\n    }\n\n    .dataframe tbody tr th {\n        vertical-align: top;\n    }\n\n    .dataframe thead th {\n        text-align: right;\n    }\n</style>\n<table border=\"1\" class=\"dataframe\">\n  <thead>\n    <tr style=\"text-align: right;\">\n      <th></th>\n      <th>footlength</th>\n      <th>Heightin</th>\n      <th>Weightlbs</th>\n      <th>balloffootcircumference</th>\n      <th>Hd</th>\n      <th>Stars</th>\n    </tr>\n  </thead>\n  <tbody>\n    <tr>\n      <th>0</th>\n      <td>273</td>\n      <td>71</td>\n      <td>180</td>\n      <td>253</td>\n      <td>0</td>\n      <td>0</td>\n    </tr>\n    <tr>\n      <th>1</th>\n      <td>263</td>\n      <td>68</td>\n      <td>160</td>\n      <td>245</td>\n      <td>0</td>\n      <td>0</td>\n    </tr>\n    <tr>\n      <th>2</th>\n      <td>270</td>\n      <td>68</td>\n      <td>205</td>\n      <td>256</td>\n      <td>0</td>\n      <td>0</td>\n    </tr>\n    <tr>\n      <th>3</th>\n      <td>267</td>\n      <td>66</td>\n      <td>175</td>\n      <td>262</td>\n      <td>0</td>\n      <td>0</td>\n    </tr>\n    <tr>\n      <th>4</th>\n      <td>305</td>\n      <td>77</td>\n      <td>213</td>\n      <td>267</td>\n      <td>0</td>\n      <td>0</td>\n    </tr>\n  </tbody>\n</table>\n</div>"
     },
     "execution_count": 26,
     "metadata": {},
     "output_type": "execute_result"
    }
   ],
   "source": [],
   "metadata": {
    "collapsed": false,
    "pycharm": {
     "name": "#%%\n"
    }
   }
  },
  {
   "cell_type": "code",
   "execution_count": 28,
   "outputs": [
    {
     "data": {
      "text/plain": "   subjectid  abdominalextensiondepthsitting  acromialheight  \\\n0      10027                             266            1467   \n1      10032                             233            1395   \n2      10033                             287            1430   \n3      10092                             234            1347   \n4      10093                             250            1585   \n\n   acromionradialelength  anklecircumference  axillaheight  \\\n0                    337                 222          1347   \n1                    326                 220          1293   \n2                    341                 230          1327   \n3                    310                 230          1239   \n4                    372                 247          1478   \n\n   balloffootcircumference  balloffootlength  biacromialbreadth  \\\n0                      253               202                401   \n1                      245               193                394   \n2                      256               196                427   \n3                      262               199                401   \n4                      267               224                435   \n\n   bicepscircumferenceflexed  ...                  Branch  PrimaryMOS  \\\n0                        369  ...             Combat Arms         19D   \n1                        338  ...          Combat Support         68W   \n2                        408  ...          Combat Support         68W   \n3                        359  ...  Combat Service Support         88M   \n4                        356  ...  Combat Service Support         92G   \n\n   SubjectsBirthLocation  SubjectNumericRace  Ethnicity  DODRace  Age  \\\n0           North Dakota                   1        NaN        1   41   \n1               New York                   1        NaN        1   35   \n2               New York                   2        NaN        2   42   \n3              Wisconsin                   1        NaN        1   31   \n4         North Carolina                   2        NaN        2   21   \n\n   Heightin  Weightlbs  WritingPreference  \n0        71        180         Right hand  \n1        68        160          Left hand  \n2        68        205          Left hand  \n3        66        175         Right hand  \n4        77        213         Right hand  \n\n[5 rows x 108 columns]",
      "text/html": "<div>\n<style scoped>\n    .dataframe tbody tr th:only-of-type {\n        vertical-align: middle;\n    }\n\n    .dataframe tbody tr th {\n        vertical-align: top;\n    }\n\n    .dataframe thead th {\n        text-align: right;\n    }\n</style>\n<table border=\"1\" class=\"dataframe\">\n  <thead>\n    <tr style=\"text-align: right;\">\n      <th></th>\n      <th>subjectid</th>\n      <th>abdominalextensiondepthsitting</th>\n      <th>acromialheight</th>\n      <th>acromionradialelength</th>\n      <th>anklecircumference</th>\n      <th>axillaheight</th>\n      <th>balloffootcircumference</th>\n      <th>balloffootlength</th>\n      <th>biacromialbreadth</th>\n      <th>bicepscircumferenceflexed</th>\n      <th>...</th>\n      <th>Branch</th>\n      <th>PrimaryMOS</th>\n      <th>SubjectsBirthLocation</th>\n      <th>SubjectNumericRace</th>\n      <th>Ethnicity</th>\n      <th>DODRace</th>\n      <th>Age</th>\n      <th>Heightin</th>\n      <th>Weightlbs</th>\n      <th>WritingPreference</th>\n    </tr>\n  </thead>\n  <tbody>\n    <tr>\n      <th>0</th>\n      <td>10027</td>\n      <td>266</td>\n      <td>1467</td>\n      <td>337</td>\n      <td>222</td>\n      <td>1347</td>\n      <td>253</td>\n      <td>202</td>\n      <td>401</td>\n      <td>369</td>\n      <td>...</td>\n      <td>Combat Arms</td>\n      <td>19D</td>\n      <td>North Dakota</td>\n      <td>1</td>\n      <td>NaN</td>\n      <td>1</td>\n      <td>41</td>\n      <td>71</td>\n      <td>180</td>\n      <td>Right hand</td>\n    </tr>\n    <tr>\n      <th>1</th>\n      <td>10032</td>\n      <td>233</td>\n      <td>1395</td>\n      <td>326</td>\n      <td>220</td>\n      <td>1293</td>\n      <td>245</td>\n      <td>193</td>\n      <td>394</td>\n      <td>338</td>\n      <td>...</td>\n      <td>Combat Support</td>\n      <td>68W</td>\n      <td>New York</td>\n      <td>1</td>\n      <td>NaN</td>\n      <td>1</td>\n      <td>35</td>\n      <td>68</td>\n      <td>160</td>\n      <td>Left hand</td>\n    </tr>\n    <tr>\n      <th>2</th>\n      <td>10033</td>\n      <td>287</td>\n      <td>1430</td>\n      <td>341</td>\n      <td>230</td>\n      <td>1327</td>\n      <td>256</td>\n      <td>196</td>\n      <td>427</td>\n      <td>408</td>\n      <td>...</td>\n      <td>Combat Support</td>\n      <td>68W</td>\n      <td>New York</td>\n      <td>2</td>\n      <td>NaN</td>\n      <td>2</td>\n      <td>42</td>\n      <td>68</td>\n      <td>205</td>\n      <td>Left hand</td>\n    </tr>\n    <tr>\n      <th>3</th>\n      <td>10092</td>\n      <td>234</td>\n      <td>1347</td>\n      <td>310</td>\n      <td>230</td>\n      <td>1239</td>\n      <td>262</td>\n      <td>199</td>\n      <td>401</td>\n      <td>359</td>\n      <td>...</td>\n      <td>Combat Service Support</td>\n      <td>88M</td>\n      <td>Wisconsin</td>\n      <td>1</td>\n      <td>NaN</td>\n      <td>1</td>\n      <td>31</td>\n      <td>66</td>\n      <td>175</td>\n      <td>Right hand</td>\n    </tr>\n    <tr>\n      <th>4</th>\n      <td>10093</td>\n      <td>250</td>\n      <td>1585</td>\n      <td>372</td>\n      <td>247</td>\n      <td>1478</td>\n      <td>267</td>\n      <td>224</td>\n      <td>435</td>\n      <td>356</td>\n      <td>...</td>\n      <td>Combat Service Support</td>\n      <td>92G</td>\n      <td>North Carolina</td>\n      <td>2</td>\n      <td>NaN</td>\n      <td>2</td>\n      <td>21</td>\n      <td>77</td>\n      <td>213</td>\n      <td>Right hand</td>\n    </tr>\n  </tbody>\n</table>\n<p>5 rows × 108 columns</p>\n</div>"
     },
     "execution_count": 28,
     "metadata": {},
     "output_type": "execute_result"
    }
   ],
   "source": [
    "df_male.head()"
   ],
   "metadata": {
    "collapsed": false,
    "pycharm": {
     "name": "#%%\n"
    }
   }
  },
  {
   "cell_type": "code",
   "execution_count": 29,
   "outputs": [
    {
     "data": {
      "text/plain": "   footlength  Heightin  Weightlbs  balloffootcircumference  Hd  Stars\n0         273        71        180                      253   0      0\n1         263        68        160                      245   0      0\n2         270        68        205                      256   0      0\n3         267        66        175                      262   0      0\n4         305        77        213                      267   0      0",
      "text/html": "<div>\n<style scoped>\n    .dataframe tbody tr th:only-of-type {\n        vertical-align: middle;\n    }\n\n    .dataframe tbody tr th {\n        vertical-align: top;\n    }\n\n    .dataframe thead th {\n        text-align: right;\n    }\n</style>\n<table border=\"1\" class=\"dataframe\">\n  <thead>\n    <tr style=\"text-align: right;\">\n      <th></th>\n      <th>footlength</th>\n      <th>Heightin</th>\n      <th>Weightlbs</th>\n      <th>balloffootcircumference</th>\n      <th>Hd</th>\n      <th>Stars</th>\n    </tr>\n  </thead>\n  <tbody>\n    <tr>\n      <th>0</th>\n      <td>273</td>\n      <td>71</td>\n      <td>180</td>\n      <td>253</td>\n      <td>0</td>\n      <td>0</td>\n    </tr>\n    <tr>\n      <th>1</th>\n      <td>263</td>\n      <td>68</td>\n      <td>160</td>\n      <td>245</td>\n      <td>0</td>\n      <td>0</td>\n    </tr>\n    <tr>\n      <th>2</th>\n      <td>270</td>\n      <td>68</td>\n      <td>205</td>\n      <td>256</td>\n      <td>0</td>\n      <td>0</td>\n    </tr>\n    <tr>\n      <th>3</th>\n      <td>267</td>\n      <td>66</td>\n      <td>175</td>\n      <td>262</td>\n      <td>0</td>\n      <td>0</td>\n    </tr>\n    <tr>\n      <th>4</th>\n      <td>305</td>\n      <td>77</td>\n      <td>213</td>\n      <td>267</td>\n      <td>0</td>\n      <td>0</td>\n    </tr>\n  </tbody>\n</table>\n</div>"
     },
     "execution_count": 29,
     "metadata": {},
     "output_type": "execute_result"
    }
   ],
   "source": [
    "new_df.head()"
   ],
   "metadata": {
    "collapsed": false,
    "pycharm": {
     "name": "#%%\n"
    }
   }
  },
  {
   "cell_type": "code",
   "execution_count": 32,
   "outputs": [
    {
     "ename": "KeyError",
     "evalue": "\"['Hd'] not found in axis\"",
     "output_type": "error",
     "traceback": [
      "\u001B[1;31m---------------------------------------------------------------------------\u001B[0m",
      "\u001B[1;31mKeyError\u001B[0m                                  Traceback (most recent call last)",
      "Input \u001B[1;32mIn [32]\u001B[0m, in \u001B[0;36m<cell line: 1>\u001B[1;34m()\u001B[0m\n\u001B[1;32m----> 1\u001B[0m \u001B[43mnew_df\u001B[49m\u001B[38;5;241;43m.\u001B[39;49m\u001B[43mdrop\u001B[49m\u001B[43m(\u001B[49m\u001B[38;5;124;43m'\u001B[39;49m\u001B[38;5;124;43mHd\u001B[39;49m\u001B[38;5;124;43m'\u001B[39;49m\u001B[43m)\u001B[49m\n",
      "File \u001B[1;32m~\\PycharmProjects\\Big_data\\venv\\lib\\site-packages\\pandas\\util\\_decorators.py:311\u001B[0m, in \u001B[0;36mdeprecate_nonkeyword_arguments.<locals>.decorate.<locals>.wrapper\u001B[1;34m(*args, **kwargs)\u001B[0m\n\u001B[0;32m    305\u001B[0m \u001B[38;5;28;01mif\u001B[39;00m \u001B[38;5;28mlen\u001B[39m(args) \u001B[38;5;241m>\u001B[39m num_allow_args:\n\u001B[0;32m    306\u001B[0m     warnings\u001B[38;5;241m.\u001B[39mwarn(\n\u001B[0;32m    307\u001B[0m         msg\u001B[38;5;241m.\u001B[39mformat(arguments\u001B[38;5;241m=\u001B[39marguments),\n\u001B[0;32m    308\u001B[0m         \u001B[38;5;167;01mFutureWarning\u001B[39;00m,\n\u001B[0;32m    309\u001B[0m         stacklevel\u001B[38;5;241m=\u001B[39mstacklevel,\n\u001B[0;32m    310\u001B[0m     )\n\u001B[1;32m--> 311\u001B[0m \u001B[38;5;28;01mreturn\u001B[39;00m func(\u001B[38;5;241m*\u001B[39margs, \u001B[38;5;241m*\u001B[39m\u001B[38;5;241m*\u001B[39mkwargs)\n",
      "File \u001B[1;32m~\\PycharmProjects\\Big_data\\venv\\lib\\site-packages\\pandas\\core\\frame.py:4954\u001B[0m, in \u001B[0;36mDataFrame.drop\u001B[1;34m(self, labels, axis, index, columns, level, inplace, errors)\u001B[0m\n\u001B[0;32m   4806\u001B[0m \u001B[38;5;129m@deprecate_nonkeyword_arguments\u001B[39m(version\u001B[38;5;241m=\u001B[39m\u001B[38;5;28;01mNone\u001B[39;00m, allowed_args\u001B[38;5;241m=\u001B[39m[\u001B[38;5;124m\"\u001B[39m\u001B[38;5;124mself\u001B[39m\u001B[38;5;124m\"\u001B[39m, \u001B[38;5;124m\"\u001B[39m\u001B[38;5;124mlabels\u001B[39m\u001B[38;5;124m\"\u001B[39m])\n\u001B[0;32m   4807\u001B[0m \u001B[38;5;28;01mdef\u001B[39;00m \u001B[38;5;21mdrop\u001B[39m(\n\u001B[0;32m   4808\u001B[0m     \u001B[38;5;28mself\u001B[39m,\n\u001B[1;32m   (...)\u001B[0m\n\u001B[0;32m   4815\u001B[0m     errors: \u001B[38;5;28mstr\u001B[39m \u001B[38;5;241m=\u001B[39m \u001B[38;5;124m\"\u001B[39m\u001B[38;5;124mraise\u001B[39m\u001B[38;5;124m\"\u001B[39m,\n\u001B[0;32m   4816\u001B[0m ):\n\u001B[0;32m   4817\u001B[0m     \u001B[38;5;124;03m\"\"\"\u001B[39;00m\n\u001B[0;32m   4818\u001B[0m \u001B[38;5;124;03m    Drop specified labels from rows or columns.\u001B[39;00m\n\u001B[0;32m   4819\u001B[0m \n\u001B[1;32m   (...)\u001B[0m\n\u001B[0;32m   4952\u001B[0m \u001B[38;5;124;03m            weight  1.0     0.8\u001B[39;00m\n\u001B[0;32m   4953\u001B[0m \u001B[38;5;124;03m    \"\"\"\u001B[39;00m\n\u001B[1;32m-> 4954\u001B[0m     \u001B[38;5;28;01mreturn\u001B[39;00m \u001B[38;5;28;43msuper\u001B[39;49m\u001B[43m(\u001B[49m\u001B[43m)\u001B[49m\u001B[38;5;241;43m.\u001B[39;49m\u001B[43mdrop\u001B[49m\u001B[43m(\u001B[49m\n\u001B[0;32m   4955\u001B[0m \u001B[43m        \u001B[49m\u001B[43mlabels\u001B[49m\u001B[38;5;241;43m=\u001B[39;49m\u001B[43mlabels\u001B[49m\u001B[43m,\u001B[49m\n\u001B[0;32m   4956\u001B[0m \u001B[43m        \u001B[49m\u001B[43maxis\u001B[49m\u001B[38;5;241;43m=\u001B[39;49m\u001B[43maxis\u001B[49m\u001B[43m,\u001B[49m\n\u001B[0;32m   4957\u001B[0m \u001B[43m        \u001B[49m\u001B[43mindex\u001B[49m\u001B[38;5;241;43m=\u001B[39;49m\u001B[43mindex\u001B[49m\u001B[43m,\u001B[49m\n\u001B[0;32m   4958\u001B[0m \u001B[43m        \u001B[49m\u001B[43mcolumns\u001B[49m\u001B[38;5;241;43m=\u001B[39;49m\u001B[43mcolumns\u001B[49m\u001B[43m,\u001B[49m\n\u001B[0;32m   4959\u001B[0m \u001B[43m        \u001B[49m\u001B[43mlevel\u001B[49m\u001B[38;5;241;43m=\u001B[39;49m\u001B[43mlevel\u001B[49m\u001B[43m,\u001B[49m\n\u001B[0;32m   4960\u001B[0m \u001B[43m        \u001B[49m\u001B[43minplace\u001B[49m\u001B[38;5;241;43m=\u001B[39;49m\u001B[43minplace\u001B[49m\u001B[43m,\u001B[49m\n\u001B[0;32m   4961\u001B[0m \u001B[43m        \u001B[49m\u001B[43merrors\u001B[49m\u001B[38;5;241;43m=\u001B[39;49m\u001B[43merrors\u001B[49m\u001B[43m,\u001B[49m\n\u001B[0;32m   4962\u001B[0m \u001B[43m    \u001B[49m\u001B[43m)\u001B[49m\n",
      "File \u001B[1;32m~\\PycharmProjects\\Big_data\\venv\\lib\\site-packages\\pandas\\core\\generic.py:4267\u001B[0m, in \u001B[0;36mNDFrame.drop\u001B[1;34m(self, labels, axis, index, columns, level, inplace, errors)\u001B[0m\n\u001B[0;32m   4265\u001B[0m \u001B[38;5;28;01mfor\u001B[39;00m axis, labels \u001B[38;5;129;01min\u001B[39;00m axes\u001B[38;5;241m.\u001B[39mitems():\n\u001B[0;32m   4266\u001B[0m     \u001B[38;5;28;01mif\u001B[39;00m labels \u001B[38;5;129;01mis\u001B[39;00m \u001B[38;5;129;01mnot\u001B[39;00m \u001B[38;5;28;01mNone\u001B[39;00m:\n\u001B[1;32m-> 4267\u001B[0m         obj \u001B[38;5;241m=\u001B[39m \u001B[43mobj\u001B[49m\u001B[38;5;241;43m.\u001B[39;49m\u001B[43m_drop_axis\u001B[49m\u001B[43m(\u001B[49m\u001B[43mlabels\u001B[49m\u001B[43m,\u001B[49m\u001B[43m \u001B[49m\u001B[43maxis\u001B[49m\u001B[43m,\u001B[49m\u001B[43m \u001B[49m\u001B[43mlevel\u001B[49m\u001B[38;5;241;43m=\u001B[39;49m\u001B[43mlevel\u001B[49m\u001B[43m,\u001B[49m\u001B[43m \u001B[49m\u001B[43merrors\u001B[49m\u001B[38;5;241;43m=\u001B[39;49m\u001B[43merrors\u001B[49m\u001B[43m)\u001B[49m\n\u001B[0;32m   4269\u001B[0m \u001B[38;5;28;01mif\u001B[39;00m inplace:\n\u001B[0;32m   4270\u001B[0m     \u001B[38;5;28mself\u001B[39m\u001B[38;5;241m.\u001B[39m_update_inplace(obj)\n",
      "File \u001B[1;32m~\\PycharmProjects\\Big_data\\venv\\lib\\site-packages\\pandas\\core\\generic.py:4311\u001B[0m, in \u001B[0;36mNDFrame._drop_axis\u001B[1;34m(self, labels, axis, level, errors, consolidate, only_slice)\u001B[0m\n\u001B[0;32m   4309\u001B[0m         new_axis \u001B[38;5;241m=\u001B[39m axis\u001B[38;5;241m.\u001B[39mdrop(labels, level\u001B[38;5;241m=\u001B[39mlevel, errors\u001B[38;5;241m=\u001B[39merrors)\n\u001B[0;32m   4310\u001B[0m     \u001B[38;5;28;01melse\u001B[39;00m:\n\u001B[1;32m-> 4311\u001B[0m         new_axis \u001B[38;5;241m=\u001B[39m \u001B[43maxis\u001B[49m\u001B[38;5;241;43m.\u001B[39;49m\u001B[43mdrop\u001B[49m\u001B[43m(\u001B[49m\u001B[43mlabels\u001B[49m\u001B[43m,\u001B[49m\u001B[43m \u001B[49m\u001B[43merrors\u001B[49m\u001B[38;5;241;43m=\u001B[39;49m\u001B[43merrors\u001B[49m\u001B[43m)\u001B[49m\n\u001B[0;32m   4312\u001B[0m     indexer \u001B[38;5;241m=\u001B[39m axis\u001B[38;5;241m.\u001B[39mget_indexer(new_axis)\n\u001B[0;32m   4314\u001B[0m \u001B[38;5;66;03m# Case for non-unique axis\u001B[39;00m\n\u001B[0;32m   4315\u001B[0m \u001B[38;5;28;01melse\u001B[39;00m:\n",
      "File \u001B[1;32m~\\PycharmProjects\\Big_data\\venv\\lib\\site-packages\\pandas\\core\\indexes\\base.py:6644\u001B[0m, in \u001B[0;36mIndex.drop\u001B[1;34m(self, labels, errors)\u001B[0m\n\u001B[0;32m   6642\u001B[0m \u001B[38;5;28;01mif\u001B[39;00m mask\u001B[38;5;241m.\u001B[39many():\n\u001B[0;32m   6643\u001B[0m     \u001B[38;5;28;01mif\u001B[39;00m errors \u001B[38;5;241m!=\u001B[39m \u001B[38;5;124m\"\u001B[39m\u001B[38;5;124mignore\u001B[39m\u001B[38;5;124m\"\u001B[39m:\n\u001B[1;32m-> 6644\u001B[0m         \u001B[38;5;28;01mraise\u001B[39;00m \u001B[38;5;167;01mKeyError\u001B[39;00m(\u001B[38;5;124mf\u001B[39m\u001B[38;5;124m\"\u001B[39m\u001B[38;5;132;01m{\u001B[39;00m\u001B[38;5;28mlist\u001B[39m(labels[mask])\u001B[38;5;132;01m}\u001B[39;00m\u001B[38;5;124m not found in axis\u001B[39m\u001B[38;5;124m\"\u001B[39m)\n\u001B[0;32m   6645\u001B[0m     indexer \u001B[38;5;241m=\u001B[39m indexer[\u001B[38;5;241m~\u001B[39mmask]\n\u001B[0;32m   6646\u001B[0m \u001B[38;5;28;01mreturn\u001B[39;00m \u001B[38;5;28mself\u001B[39m\u001B[38;5;241m.\u001B[39mdelete(indexer)\n",
      "\u001B[1;31mKeyError\u001B[0m: \"['Hd'] not found in axis\""
     ]
    }
   ],
   "source": [
    "new_df.drop('Hd')"
   ],
   "metadata": {
    "collapsed": false,
    "pycharm": {
     "name": "#%%\n"
    }
   }
  },
  {
   "cell_type": "code",
   "execution_count": 35,
   "outputs": [
    {
     "data": {
      "text/plain": "   footlength  Heightin  Weightlbs  balloffootcircumference\n0         273        71        180                      253\n1         263        68        160                      245\n2         270        68        205                      256\n3         267        66        175                      262\n4         305        77        213                      267",
      "text/html": "<div>\n<style scoped>\n    .dataframe tbody tr th:only-of-type {\n        vertical-align: middle;\n    }\n\n    .dataframe tbody tr th {\n        vertical-align: top;\n    }\n\n    .dataframe thead th {\n        text-align: right;\n    }\n</style>\n<table border=\"1\" class=\"dataframe\">\n  <thead>\n    <tr style=\"text-align: right;\">\n      <th></th>\n      <th>footlength</th>\n      <th>Heightin</th>\n      <th>Weightlbs</th>\n      <th>balloffootcircumference</th>\n    </tr>\n  </thead>\n  <tbody>\n    <tr>\n      <th>0</th>\n      <td>273</td>\n      <td>71</td>\n      <td>180</td>\n      <td>253</td>\n    </tr>\n    <tr>\n      <th>1</th>\n      <td>263</td>\n      <td>68</td>\n      <td>160</td>\n      <td>245</td>\n    </tr>\n    <tr>\n      <th>2</th>\n      <td>270</td>\n      <td>68</td>\n      <td>205</td>\n      <td>256</td>\n    </tr>\n    <tr>\n      <th>3</th>\n      <td>267</td>\n      <td>66</td>\n      <td>175</td>\n      <td>262</td>\n    </tr>\n    <tr>\n      <th>4</th>\n      <td>305</td>\n      <td>77</td>\n      <td>213</td>\n      <td>267</td>\n    </tr>\n  </tbody>\n</table>\n</div>"
     },
     "execution_count": 35,
     "metadata": {},
     "output_type": "execute_result"
    }
   ],
   "source": [
    "new_df.head()"
   ],
   "metadata": {
    "collapsed": false,
    "pycharm": {
     "name": "#%%\n"
    }
   }
  },
  {
   "cell_type": "code",
   "execution_count": 37,
   "outputs": [
    {
     "name": "stderr",
     "output_type": "stream",
     "text": [
      "C:\\Users\\NYass\\AppData\\Local\\Temp\\ipykernel_9496\\724956300.py:3: SettingWithCopyWarning: \n",
      "A value is trying to be set on a copy of a slice from a DataFrame.\n",
      "Try using .loc[row_indexer,col_indexer] = value instead\n",
      "\n",
      "See the caveats in the documentation: https://pandas.pydata.org/pandas-docs/stable/user_guide/indexing.html#returning-a-view-versus-a-copy\n",
      "  new_df.loc[ind, 'EUR Size'] = row ['footlength'] / 6.51\n"
     ]
    }
   ],
   "source": [
    "from maps import foot_length, foot_the_ball, sizes\n",
    "for ind, row in new_df.iterrows():\n",
    "    new_df.loc[ind, 'EUR Size'] = row ['footlength'] / 6.51"
   ],
   "metadata": {
    "collapsed": false,
    "pycharm": {
     "name": "#%%\n"
    }
   }
  },
  {
   "cell_type": "code",
   "execution_count": 38,
   "outputs": [
    {
     "data": {
      "text/plain": "   footlength  Heightin  Weightlbs  balloffootcircumference   EUR Size\n0         273        71        180                      253  41.935484\n1         263        68        160                      245  40.399386\n2         270        68        205                      256  41.474654\n3         267        66        175                      262  41.013825\n4         305        77        213                      267  46.850998",
      "text/html": "<div>\n<style scoped>\n    .dataframe tbody tr th:only-of-type {\n        vertical-align: middle;\n    }\n\n    .dataframe tbody tr th {\n        vertical-align: top;\n    }\n\n    .dataframe thead th {\n        text-align: right;\n    }\n</style>\n<table border=\"1\" class=\"dataframe\">\n  <thead>\n    <tr style=\"text-align: right;\">\n      <th></th>\n      <th>footlength</th>\n      <th>Heightin</th>\n      <th>Weightlbs</th>\n      <th>balloffootcircumference</th>\n      <th>EUR Size</th>\n    </tr>\n  </thead>\n  <tbody>\n    <tr>\n      <th>0</th>\n      <td>273</td>\n      <td>71</td>\n      <td>180</td>\n      <td>253</td>\n      <td>41.935484</td>\n    </tr>\n    <tr>\n      <th>1</th>\n      <td>263</td>\n      <td>68</td>\n      <td>160</td>\n      <td>245</td>\n      <td>40.399386</td>\n    </tr>\n    <tr>\n      <th>2</th>\n      <td>270</td>\n      <td>68</td>\n      <td>205</td>\n      <td>256</td>\n      <td>41.474654</td>\n    </tr>\n    <tr>\n      <th>3</th>\n      <td>267</td>\n      <td>66</td>\n      <td>175</td>\n      <td>262</td>\n      <td>41.013825</td>\n    </tr>\n    <tr>\n      <th>4</th>\n      <td>305</td>\n      <td>77</td>\n      <td>213</td>\n      <td>267</td>\n      <td>46.850998</td>\n    </tr>\n  </tbody>\n</table>\n</div>"
     },
     "execution_count": 38,
     "metadata": {},
     "output_type": "execute_result"
    }
   ],
   "source": [
    "new_df.head()"
   ],
   "metadata": {
    "collapsed": false,
    "pycharm": {
     "name": "#%%\n"
    }
   }
  },
  {
   "cell_type": "code",
   "execution_count": 39,
   "outputs": [],
   "source": [
    "new_df.to_csv('male_clean.csv', index=False)"
   ],
   "metadata": {
    "collapsed": false,
    "pycharm": {
     "name": "#%%\n"
    }
   }
  },
  {
   "cell_type": "code",
   "execution_count": null,
   "outputs": [],
   "source": [],
   "metadata": {
    "collapsed": false,
    "pycharm": {
     "name": "#%%\n"
    }
   }
  }
 ],
 "metadata": {
  "kernelspec": {
   "display_name": "Python 3",
   "language": "python",
   "name": "python3"
  },
  "language_info": {
   "codemirror_mode": {
    "name": "ipython",
    "version": 2
   },
   "file_extension": ".py",
   "mimetype": "text/x-python",
   "name": "python",
   "nbconvert_exporter": "python",
   "pygments_lexer": "ipython2",
   "version": "2.7.6"
  }
 },
 "nbformat": 4,
 "nbformat_minor": 0
}